{
 "cells": [
  {
   "cell_type": "markdown",
   "id": "9376a4af-1bf9-4d77-8b26-a63e65e124f9",
   "metadata": {},
   "source": [
    "                                               Assignment"
   ]
  },
  {
   "cell_type": "markdown",
   "id": "cd64853b-bed5-43d9-ab30-8d0bbeb8f296",
   "metadata": {},
   "source": [
    "Q1. Explain Class and Object with respect to Object-Oriented Programming. Give a suitable example."
   ]
  },
  {
   "cell_type": "markdown",
   "id": "ff55b2e0-114e-4bd7-a950-61b495aa41c8",
   "metadata": {},
   "source": [
    "answer :- oriented programming (OOP),\n",
    "a class is a blueprint or template that defines the properties \n",
    "and behaviors (methods) that an object of that class can have.\n",
    "It serves as a blueprint for creating instances of objects,\n",
    "also known as instances or objects of that class.\n",
    "\n",
    "\n",
    "\n",
    "object:- object, on the other hand, is a specific instance of a class.\n",
    "It represents a concrete entity with its own set of data and behavior,\n",
    "based on the definition provided by the class.\n",
    "Objects are created from classes and can interact\n",
    "with other objects through method invocations."
   ]
  },
  {
   "cell_type": "code",
   "execution_count": 1,
   "id": "f86772d5-0bd6-4285-a598-b28842633862",
   "metadata": {},
   "outputs": [],
   "source": [
    "class Car:\n",
    "    def __init__(self, brand, model, color):\n",
    "        self.brand = brand\n",
    "        self.model = model\n",
    "        self.color = color\n",
    "\n",
    "    def start_engine(self):\n",
    "        print(f\"The {self.brand} {self.model}'s engine is starting.\")\n",
    "\n",
    "    def stop_engine(self):\n",
    "        print(f\"The {self.brand} {self.model}'s engine is stopping.\")"
   ]
  },
  {
   "cell_type": "code",
   "execution_count": 2,
   "id": "dee91d65-6e4e-4028-b0d3-f8ebcd4a6a2f",
   "metadata": {},
   "outputs": [],
   "source": [
    "my_car = Car(\"Toyota\", \"Camry\", \"Blue\")"
   ]
  },
  {
   "cell_type": "code",
   "execution_count": 9,
   "id": "b0f1a36d-eae8-45d7-8897-90af42236d42",
   "metadata": {},
   "outputs": [
    {
     "name": "stdout",
     "output_type": "stream",
     "text": [
      "My car is a Toyota Camry in Blue color.\n"
     ]
    }
   ],
   "source": [
    "print(f\"My car is a {my_car.brand} {my_car.model} in {my_car.color} color.\")"
   ]
  },
  {
   "cell_type": "markdown",
   "id": "9288ca8d-489a-42d2-993e-7d2e5a956fcf",
   "metadata": {},
   "source": [
    "my_car.brand"
   ]
  },
  {
   "cell_type": "code",
   "execution_count": 4,
   "id": "c3d931ae-64be-41e7-aca0-203c997a0c54",
   "metadata": {},
   "outputs": [
    {
     "data": {
      "text/plain": [
       "'Blue'"
      ]
     },
     "execution_count": 4,
     "metadata": {},
     "output_type": "execute_result"
    }
   ],
   "source": [
    "my_car.color"
   ]
  },
  {
   "cell_type": "code",
   "execution_count": 5,
   "id": "64df6b5a-ad29-460c-98f6-459bee0371f1",
   "metadata": {},
   "outputs": [
    {
     "data": {
      "text/plain": [
       "'Camry'"
      ]
     },
     "execution_count": 5,
     "metadata": {},
     "output_type": "execute_result"
    }
   ],
   "source": [
    "my_car.model"
   ]
  },
  {
   "cell_type": "code",
   "execution_count": 7,
   "id": "ac2f599f-c5a2-4b1d-bcdd-b13ac3bdfca3",
   "metadata": {},
   "outputs": [
    {
     "name": "stdout",
     "output_type": "stream",
     "text": [
      "The Toyota Camry's engine is starting.\n"
     ]
    }
   ],
   "source": [
    "my_car.start_engine()"
   ]
  },
  {
   "cell_type": "code",
   "execution_count": 8,
   "id": "5625c27e-f7bf-46c2-a387-8fb4f3bde6d6",
   "metadata": {},
   "outputs": [
    {
     "name": "stdout",
     "output_type": "stream",
     "text": [
      "The Toyota Camry's engine is stopping.\n"
     ]
    }
   ],
   "source": [
    "my_car.stop_engine()"
   ]
  },
  {
   "cell_type": "code",
   "execution_count": 12,
   "id": "2acfc2e9-a90a-4d73-b3f3-8ea4df943505",
   "metadata": {},
   "outputs": [],
   "source": [
    "# Q2. Name the four pillars of OOPs."
   ]
  },
  {
   "cell_type": "raw",
   "id": "8c56903b-f0a0-41e7-a302-b26f36f072c9",
   "metadata": {},
   "source": [
    " answer :-\n",
    " 1.Encapsulation\n",
    "  2.Inheritance\n",
    "  3.Polymorphism\n",
    "  4.Abstraction"
   ]
  },
  {
   "cell_type": "markdown",
   "id": "e6e7bd1f-6a68-4b6e-a497-d512d75cb085",
   "metadata": {},
   "source": [
    "Q3. Explain why the __init__() function is used. Give a suitable example."
   ]
  },
  {
   "cell_type": "markdown",
   "id": "45151201-2c7a-44f8-b41c-e72e4ee7c14e",
   "metadata": {},
   "source": [
    " __init__() function is a special method in Python that is automatically\n",
    "called when an object is created from a class.\n",
    "It stands for \"initialize\" and is used to initialize the attributes (data members) of an object."
   ]
  },
  {
   "cell_type": "code",
   "execution_count": 15,
   "id": "ca384cb7-dd51-4cd1-a919-225e7ceca31f",
   "metadata": {},
   "outputs": [],
   "source": [
    "class Person:\n",
    "    def __init__(self, name, age):\n",
    "        self.name = name\n",
    "        self.age = age\n",
    "\n",
    "    def introduce(self):\n",
    "        print(f\"My name is {self.name}, and I am {self.age} years old.\")"
   ]
  },
  {
   "cell_type": "code",
   "execution_count": 16,
   "id": "469a5ad5-c7cc-4fd6-a03d-6bd37fbab6d1",
   "metadata": {},
   "outputs": [],
   "source": [
    "person1 = Person(\"Alice\", 25)\n"
   ]
  },
  {
   "cell_type": "code",
   "execution_count": 18,
   "id": "5dbcc0c9-498b-4565-825c-f1665ed342f5",
   "metadata": {},
   "outputs": [
    {
     "data": {
      "text/plain": [
       "25"
      ]
     },
     "execution_count": 18,
     "metadata": {},
     "output_type": "execute_result"
    }
   ],
   "source": [
    "person1.age"
   ]
  },
  {
   "cell_type": "code",
   "execution_count": 20,
   "id": "71e9b9cc-1dff-4204-b203-fd9c5929fd74",
   "metadata": {},
   "outputs": [
    {
     "name": "stdout",
     "output_type": "stream",
     "text": [
      "My name is Alice, and I am 25 years old.\n"
     ]
    }
   ],
   "source": [
    "person1.introduce()"
   ]
  },
  {
   "cell_type": "code",
   "execution_count": 21,
   "id": "68d9acd7-edb9-4131-83a1-7df257d36290",
   "metadata": {},
   "outputs": [
    {
     "data": {
      "text/plain": [
       "'Alice'"
      ]
     },
     "execution_count": 21,
     "metadata": {},
     "output_type": "execute_result"
    }
   ],
   "source": [
    "person1.name"
   ]
  },
  {
   "cell_type": "markdown",
   "id": "491f9035-34c1-4fa3-8c5b-f3e9a4f3b6b8",
   "metadata": {},
   "source": [
    "person1."
   ]
  },
  {
   "cell_type": "markdown",
   "id": "7aed1eeb-aaad-453c-bbba-a04f1290c011",
   "metadata": {},
   "source": [
    "Q4. Why self is used in OOPs?"
   ]
  },
  {
   "cell_type": "raw",
   "id": "446b0939-c033-4b06-a42b-d6d7974897f2",
   "metadata": {},
   "source": [
    "  ANSWER :- object-oriented programming (OOP)\n",
    "     the self parameter is used as a reference to the current instance of a class.\n",
    "     It is a convention in Python (and some other programming languages) to name this parameter as self,\n",
    "     although you can technically use any name you prefer.\n",
    "\n",
    " self parameter allows objects to access their own attributes and methods within the class.\n",
    "    When a method is invoked on an object, the object itself is automatically passed as the first argument to the method,\n",
    "    which is represented by the self parameter. This enables the object to refer to its own data and behavior.\n",
    "    "
   ]
  },
  {
   "cell_type": "markdown",
   "id": "e8ec77a8-df84-4fd1-a69a-cdbc221bad66",
   "metadata": {},
   "source": [
    "Q5. What is inheritance? Give an example for each type of inheritance."
   ]
  },
  {
   "cell_type": "markdown",
   "id": "ba2e837d-a3fa-4b77-8086-b0525411399f",
   "metadata": {},
   "source": [
    "ANSWER :- Inheritance is a fundamental concept in object-oriented programming (OOP)\n",
    "         that allows a class to inherit properties\n",
    "          and behaviors from another class.\n",
    "          The class that inherits from another class is called a subclass or derived class,\n",
    "          and the class being inherited from is called a superclass or base class.\n",
    "          Inheritance enables code reuse,\n",
    "          modularity, and the creation of hierarchical relationships between classes."
   ]
  },
  {
   "cell_type": "code",
   "execution_count": 16,
   "id": "90acba55-3054-4fdd-a3fd-d60211fd5953",
   "metadata": {},
   "outputs": [],
   "source": [
    "class Animal:\n",
    "    def eat(self):\n",
    "        print(\"Animal is eating.\")\n",
    "\n",
    "class Dog(Animal):\n",
    "    def bark(self):\n",
    "        print(\"Dog is barking.\")\n",
    "\n"
   ]
  },
  {
   "cell_type": "code",
   "execution_count": 18,
   "id": "7bb2b790-bf66-49a5-bf5c-69ce7ebbf9fa",
   "metadata": {},
   "outputs": [],
   "source": [
    "dog = Dog()"
   ]
  },
  {
   "cell_type": "code",
   "execution_count": 20,
   "id": "0f3db1c5-0c80-4541-9aee-e583c4ddf0b9",
   "metadata": {},
   "outputs": [
    {
     "name": "stdout",
     "output_type": "stream",
     "text": [
      "Dog is barking.\n"
     ]
    }
   ],
   "source": [
    "dog.bark()"
   ]
  },
  {
   "cell_type": "code",
   "execution_count": 21,
   "id": "bb4b45c5-9fa5-4c8b-a725-cc3f49b8cd98",
   "metadata": {},
   "outputs": [
    {
     "name": "stdout",
     "output_type": "stream",
     "text": [
      "Animal is eating.\n"
     ]
    }
   ],
   "source": [
    "dog.eat()"
   ]
  },
  {
   "cell_type": "code",
   "execution_count": 23,
   "id": "cf5e49de-b1ae-4ed3-8c36-e53be1807930",
   "metadata": {},
   "outputs": [],
   "source": [
    "class Bird:\n",
    "    def fly(self):\n",
    "        print(\"Bird is flying.\")\n",
    "\n",
    "class Mammal:\n",
    "    def walk(self):\n",
    "        print(\"Mammal is walking.\")\n",
    "\n",
    "class Bat(Bird, Mammal):\n",
    "    def sleep(self):\n",
    "        print(\"Bat is sleeping.\")"
   ]
  },
  {
   "cell_type": "code",
   "execution_count": 25,
   "id": "a23303cd-4a78-4c4b-a16d-2a97498403fe",
   "metadata": {},
   "outputs": [],
   "source": [
    "bat = Bat()"
   ]
  },
  {
   "cell_type": "code",
   "execution_count": 27,
   "id": "ed8ad537-8ee9-4385-848b-f570c1528d1c",
   "metadata": {},
   "outputs": [
    {
     "name": "stdout",
     "output_type": "stream",
     "text": [
      "Bird is flying.\n"
     ]
    }
   ],
   "source": [
    "bat.fly()"
   ]
  },
  {
   "cell_type": "code",
   "execution_count": 29,
   "id": "51e57527-8c86-4804-95d0-293d39772ce7",
   "metadata": {},
   "outputs": [
    {
     "name": "stdout",
     "output_type": "stream",
     "text": [
      "Bat is sleeping.\n"
     ]
    }
   ],
   "source": [
    "bat.sleep()"
   ]
  },
  {
   "cell_type": "code",
   "execution_count": 30,
   "id": "c55b65d3-b11e-4fe7-a4b7-47830e41fb38",
   "metadata": {},
   "outputs": [
    {
     "name": "stdout",
     "output_type": "stream",
     "text": [
      "Mammal is walking.\n"
     ]
    }
   ],
   "source": [
    "bat.walk()"
   ]
  },
  {
   "cell_type": "code",
   "execution_count": 31,
   "id": "1004054f-4186-4e4d-9849-32182d606773",
   "metadata": {},
   "outputs": [],
   "source": [
    "class Vehicle:\n",
    "    def start(self):\n",
    "        print(\"Vehicle is starting\")\n",
    "\n",
    "class Car(Vehicle):\n",
    "    def drive(self):\n",
    "        print(\"Car is driving\")\n",
    "\n",
    "class SportsCar(Car):\n",
    "    def accelerate(self):\n",
    "        print(\"Sports car is accelerating\")"
   ]
  },
  {
   "cell_type": "code",
   "execution_count": 32,
   "id": "b1fe06f6-d8b0-4505-8397-0de740eb6851",
   "metadata": {},
   "outputs": [],
   "source": [
    "my_car = SportsCar()"
   ]
  },
  {
   "cell_type": "code",
   "execution_count": 34,
   "id": "96ef71e4-0c42-40a5-a13c-da050828fa37",
   "metadata": {},
   "outputs": [
    {
     "name": "stdout",
     "output_type": "stream",
     "text": [
      "Sports car is accelerating.\n"
     ]
    }
   ],
   "source": [
    "my_car.accelerate()"
   ]
  },
  {
   "cell_type": "code",
   "execution_count": 35,
   "id": "835f71dc-eacd-4ec7-949d-38df49b1820c",
   "metadata": {},
   "outputs": [
    {
     "name": "stdout",
     "output_type": "stream",
     "text": [
      "Car is driving.\n"
     ]
    }
   ],
   "source": [
    "my_car.drive()"
   ]
  },
  {
   "cell_type": "code",
   "execution_count": null,
   "id": "d84afb13-f515-4b87-8225-3d014abcd75c",
   "metadata": {},
   "outputs": [],
   "source": [
    "my_car.start()"
   ]
  }
 ],
 "metadata": {
  "kernelspec": {
   "display_name": "Python 3 (ipykernel)",
   "language": "python",
   "name": "python3"
  },
  "language_info": {
   "codemirror_mode": {
    "name": "ipython",
    "version": 3
   },
   "file_extension": ".py",
   "mimetype": "text/x-python",
   "name": "python",
   "nbconvert_exporter": "python",
   "pygments_lexer": "ipython3",
   "version": "3.10.8"
  }
 },
 "nbformat": 4,
 "nbformat_minor": 5
}
